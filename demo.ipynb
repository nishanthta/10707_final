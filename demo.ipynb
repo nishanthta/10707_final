{
 "cells": [
  {
   "cell_type": "markdown",
   "metadata": {},
   "source": [
    "# VitSigNet Demo Notebook"
   ]
  },
  {
   "cell_type": "markdown",
   "metadata": {},
   "source": [
    "First, download the pretrained model checkpoints from [here](https://drive.google.com/file/d/13BVAsz4TMybx4xopPSh0ua_l4YwN1jkT/view?usp=drive_link) and [here](https://drive.google.com/file/d/1zxYfElWBdUWRzhPaDLQml5lFrUORcube/view?usp=drive_link). Also download the CEDAR dataset, from [here](https://drive.google.com/file/d/1Ns3cKpfhEwWb_3F7maCkrRML0exXl8py/view?usp=drive_link)."
   ]
  },
  {
   "cell_type": "markdown",
   "metadata": {},
   "source": [
    "This notebook demonstrates how to validate and test the ViTPose model using the CEDAR dataset. Ensure you have the model checkpoint and the dataset downloaded before proceeding."
   ]
  },
  {
   "cell_type": "code",
   "execution_count": 1,
   "metadata": {},
   "outputs": [
    {
     "name": "stderr",
     "output_type": "stream",
     "text": [
      "/home/jamesemi/Desktop/james/adl/ViTPose_pytorch/adl/lib/python3.8/site-packages/tqdm/auto.py:21: TqdmWarning: IProgress not found. Please update jupyter and ipywidgets. See https://ipywidgets.readthedocs.io/en/stable/user_install.html\n",
      "  from .autonotebook import tqdm as notebook_tqdm\n"
     ]
    }
   ],
   "source": [
    "import torch\n",
    "import os\n",
    "from torch.utils.data import DataLoader\n",
    "from torchvision import transforms\n",
    "from PIL import Image\n",
    "from model_defs import ViTPose, MLPClassifier\n",
    "import matplotlib.pyplot as plt\n",
    "import seaborn as sns\n",
    "from collections import defaultdict\n",
    "from torch.utils.data import Dataset\n",
    "from itertools import combinations, product\n",
    "from tqdm import tqdm\n",
    "import datetime\n",
    "import numpy as np\n",
    "import torch.nn.functional as F\n",
    "from torchvision.models import resnet50\n",
    "from sklearn.metrics import roc_auc_score"
   ]
  },
  {
   "cell_type": "markdown",
   "metadata": {},
   "source": [
    "### Dataset Preparation\n",
    "\n",
    "Define the dataset class and create data loaders for the test dataset:"
   ]
  },
  {
   "cell_type": "code",
   "execution_count": 2,
   "metadata": {},
   "outputs": [],
   "source": [
    "class DupletDatasetCEDAR(Dataset):\n",
    "    def __init__(self, base_dir, signers, transform=None):\n",
    "        \"\"\"\n",
    "        Initialize the dataset with the directory of images and transforms.\n",
    "        base_dir: The directory that contains subdirectories of original and forgery images.\n",
    "        transform: Transformations to apply to each image.\n",
    "        \"\"\"\n",
    "        self.transform = transform\n",
    "        self.signers = signers\n",
    "        self.pairs, self.labels = self._create_pairs(base_dir)\n",
    "        self.base_dir = base_dir\n",
    "\n",
    "    def _create_pairs(self, base_dir):\n",
    "        pairs = []\n",
    "        labels = []\n",
    "        # Walk through the directory\n",
    "        for signer in self.signers:\n",
    "            subdir = os.path.join(base_dir, signer)\n",
    "            originals = [os.path.join(subdir, f) for f in os.listdir(subdir) if 'original' in f]\n",
    "            forgeries = [os.path.join(subdir, f) for f in os.listdir(subdir) if 'forgeries' in f]\n",
    "\n",
    "            original_pairs = list(combinations(originals, 2))\n",
    "            for pair in original_pairs:\n",
    "                pairs.append(pair)\n",
    "                labels.append(0)\n",
    "\n",
    "            forgery_pairs = list(product(originals, forgeries))\n",
    "            for pair in forgery_pairs:\n",
    "                pairs.append(pair)\n",
    "                labels.append(1)\n",
    "\n",
    "        return pairs, labels\n",
    "    \n",
    "    def __getitem__(self, index):\n",
    "        img1_path, img2_path = self.pairs[index]\n",
    "        img1 = Image.open(img1_path)\n",
    "        img2 = Image.open(img2_path)\n",
    "\n",
    "        if self.transform:\n",
    "            img1 = self.transform(img1)\n",
    "            img2 = self.transform(img2)\n",
    "\n",
    "        label = torch.tensor([self.labels[index]], dtype=torch.float32)\n",
    "        return [img1, img2], label\n",
    "\n",
    "    def __len__(self):\n",
    "        return len(self.pairs)\n",
    "    \n",
    "transform = transforms.Compose([\n",
    "    transforms.Resize((256, 256)),\n",
    "    transforms.Grayscale(num_output_channels=1),\n",
    "    transforms.ToTensor()\n",
    "])\n",
    "\n",
    "# TODO - Adjust the directory path to your test dir\n",
    "test_dir = '/home/jamesemi/Desktop/james/adl/ViTPose_pytorch/datasets/CEDAR/test'\n",
    "test_signers = [name for name in os.listdir(test_dir) if os.path.isdir(os.path.join(test_dir, name))]\n",
    "test_dataset = DupletDatasetCEDAR(test_dir, signers=test_signers, transform=transform)\n",
    "test_loader = DataLoader(test_dataset, batch_size=1, shuffle=False)"
   ]
  },
  {
   "cell_type": "code",
   "execution_count": 6,
   "metadata": {},
   "outputs": [],
   "source": [
    "device = torch.device(\"cuda\" if torch.cuda.is_available() else \"cpu\")"
   ]
  },
  {
   "cell_type": "markdown",
   "metadata": {},
   "source": [
    "Load the pre-trained model from the checkpoint:"
   ]
  },
  {
   "cell_type": "code",
   "execution_count": 7,
   "metadata": {},
   "outputs": [
    {
     "name": "stdout",
     "output_type": "stream",
     "text": [
      "VitPose Model loaded successfully.\n"
     ]
    }
   ],
   "source": [
    "# TODO - Adjust the checkpoint path\n",
    "checkpoint_path = '/home/jamesemi/Desktop/james/adl/ViTPose_pytorch/vitpose_lr0.0001_epoch17_valloss0.0045_20240425-222707.pth'\n",
    "model = ViTPose().to(device)\n",
    "model.load_state_dict(torch.load(checkpoint_path, map_location=torch.device('cpu')))\n",
    "model.eval()\n",
    "print(\"VitPose Model loaded successfully.\")"
   ]
  },
  {
   "cell_type": "code",
   "execution_count": 10,
   "metadata": {},
   "outputs": [
    {
     "name": "stdout",
     "output_type": "stream",
     "text": [
      "MLP Model loaded successfully.\n"
     ]
    }
   ],
   "source": [
    "# TODO - Adjust the checkpoint path\n",
    "checkpoint_path = '//home/jamesemi/Desktop/james/adl/ViTPose_pytorch/mlp_model_epoch12_lr1e-06_valloss0.0230_20240426-134537.pth'\n",
    "mlp_model = MLPClassifier(input_dim=5120, hidden_dim=512, output_dim=1).to(device)\n",
    "mlp_model.load_state_dict(torch.load(checkpoint_path, map_location=torch.device('cpu')))\n",
    "mlp_model.eval()\n",
    "print(\"MLP Model loaded successfully.\")"
   ]
  },
  {
   "cell_type": "markdown",
   "metadata": {},
   "source": [
    "### Model Testing\n",
    "\n",
    "Run the test loop to evaluate the model:\n"
   ]
  },
  {
   "cell_type": "code",
   "execution_count": 15,
   "metadata": {},
   "outputs": [],
   "source": [
    "def test_model(model, mlp_model, test_loader, device):\n",
    "    model.eval()\n",
    "    mlp_model.eval()\n",
    "    pos_distances, neg_distances = [], [] \n",
    "    distances = []\n",
    "    labels = []\n",
    "    with torch.no_grad():\n",
    "        for images, targets in tqdm(test_loader):\n",
    "            images = [image.to(device) for image in images]\n",
    "            targets = targets.to(device)\n",
    "            output1 = model(images[0])\n",
    "            output2 = model(images[1])\n",
    "            distance = F.pairwise_distance(output1.view(output1.shape[0], -1), output2.view(output1.shape[0], -1), keepdim=True)\n",
    "            # distance = F.pairwise_distance(output1.view(output1.shape[0], -1), output2.view(output2.shape[0], -1)).squeeze().cpu().numpy()\n",
    "            distances.append(distance.item())\n",
    "            if targets.item() == 1:\n",
    "                pos_distances.append(distance.item())\n",
    "            else:\n",
    "                neg_distances.append(distance.item())\n",
    "            labels.append(targets.item())\n",
    "\n",
    "    data = [pos_distances, neg_distances]\n",
    "\n",
    "    auc_score = roc_auc_score(labels, np.array(distances) > 0.5)  # Calculate AUC based on the similarity scores\n",
    "\n",
    "    print(f\"AUC Score: {auc_score}\")\n",
    "\n",
    "    sns.set(style=\"whitegrid\")\n",
    "    plt.figure(figsize=(8, 6))\n",
    "    sns.violinplot(data=data)\n",
    "    plt.xticks([0, 1], ['Forgery', 'Original'])\n",
    "    timestamp = datetime.datetime.now().strftime(\"%Y%m%d-%H%M%S\")\n",
    "    #TODO - adjust filename/path \n",
    "    filename = f\"/home/jamesemi/Desktop/james/adl/ViTPose_pytorch/figs/violin_plot_{timestamp}.png\"\n",
    "    plt.savefig(filename, dpi=300)\n",
    "    plt.show\n",
    "    # return pos_distances, neg_distances, auc_score"
   ]
  },
  {
   "cell_type": "code",
   "execution_count": 16,
   "metadata": {},
   "outputs": [
    {
     "name": "stderr",
     "output_type": "stream",
     "text": [
      "100%|██████████| 4260/4260 [01:27<00:00, 48.90it/s]\n"
     ]
    },
    {
     "name": "stdout",
     "output_type": "stream",
     "text": [
      "AUC Score: 0.9963541666666667\n"
     ]
    },
    {
     "data": {
      "image/png": "[encoded data removed]",
      "text/plain": [
       "<Figure size 800x600 with 1 Axes>"
      ]
     },
     "metadata": {},
     "output_type": "display_data"
    }
   ],
   "source": [
    "test_model(model, mlp_model, test_loader, device)"
   ]
  },
  {
   "cell_type": "markdown",
   "metadata": {},
   "source": [
    "As seen from the violin plot, the model is able to clearly differentiate between the original-forgery pairs, and identifies the original-original pairs as highly similar. The AUC score of 0.996 also points to the well-honed discriminative abilities of the trained model. "
   ]
  }
 ],
 "metadata": {
  "kernelspec": {
   "display_name": "adl",
   "language": "python",
   "name": "python3"
  },
  "language_info": {
   "codemirror_mode": {
    "name": "ipython",
    "version": 3
   },
   "file_extension": ".py",
   "mimetype": "text/x-python",
   "name": "python",
   "nbconvert_exporter": "python",
   "pygments_lexer": "ipython3",
   "version": "3.8.10"
  }
 },
 "nbformat": 4,
 "nbformat_minor": 2
}
